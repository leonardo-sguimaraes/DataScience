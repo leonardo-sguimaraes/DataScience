{
 "cells": [
  {
   "cell_type": "markdown",
   "metadata": {},
   "source": [
    "# Data Science Academy  - Python  Fundamentos - CAPITULO 5"
   ]
  },
  {
   "cell_type": "markdown",
   "metadata": {},
   "source": [
    "## Classe\n",
    "\n",
    "### Para criar uma classe, utiliza-se a palavra reservada class. \n",
    "### O nome da sua classe segue a mesma conveção de nomes para criação de funções e variáveis, \n",
    "### mas normalmente se usa a primeira letra maiúscula em cada palavra no nome da classe."
   ]
  },
  {
   "cell_type": "code",
   "execution_count": 1,
   "metadata": {
    "collapsed": true
   },
   "outputs": [],
   "source": [
    "# Criando uma classe chamanda livro\n",
    "class Livro():\n",
    "    # Este método vai iniciar cada onjeto criado a partir desta classe\n",
    "    # O nome deste mérodo é _init_\n",
    "    # (self) é uma referencia a cada atributo de um objeto criado a partir desta classe\n",
    "    \n",
    "    def __init_ (self):\n",
    "        # Atributos de cada objeto criado a partir desta classe. O Self indica que estes são atributos dos objetos\n",
    "        self.titulo = 'O Monge e o Executivo'\n",
    "        self.isbn = 998888\n",
    "        print(\"Construtor chamado para criar um objeto desta classe\")\n",
    "        \n",
    "    # Métodos são funções, que recebem como parâmetro atributos do objeto criado\n",
    "    def imprime(self):\n",
    "        print(\"foi criado o livro  %s e ISBN %d \" %(self.titulo, self.isbn))"
   ]
  },
  {
   "cell_type": "code",
   "execution_count": 2,
   "metadata": {
    "collapsed": true
   },
   "outputs": [],
   "source": [
    "Livro1 = Livro()"
   ]
  },
  {
   "cell_type": "code",
   "execution_count": 3,
   "metadata": {
    "collapsed": false
   },
   "outputs": [
    {
     "data": {
      "text/plain": [
       "__main__.Livro"
      ]
     },
     "execution_count": 3,
     "metadata": {},
     "output_type": "execute_result"
    }
   ],
   "source": [
    "type(Livro1)"
   ]
  },
  {
   "cell_type": "code",
   "execution_count": 5,
   "metadata": {
    "collapsed": true
   },
   "outputs": [],
   "source": [
    "class lol():\n",
    "    def __init_ (self):\n",
    "        self.title = 'League of Legends'\n",
    "        self.isbn = 10101\n",
    "        print(\"Construtor chamado para criar a classe\")\n",
    "    def imprime(self):\n",
    "        print(\"Foi criado o livro \")\n",
    "    "
   ]
  },
  {
   "cell_type": "code",
   "execution_count": 6,
   "metadata": {
    "collapsed": true
   },
   "outputs": [],
   "source": [
    "jogo = lol()"
   ]
  },
  {
   "cell_type": "code",
   "execution_count": 7,
   "metadata": {
    "collapsed": false
   },
   "outputs": [
    {
     "name": "stdout",
     "output_type": "stream",
     "text": [
      "Foi criado o livro \n"
     ]
    }
   ],
   "source": [
    "jogo.imprime()"
   ]
  },
  {
   "cell_type": "code",
   "execution_count": 16,
   "metadata": {
    "collapsed": false
   },
   "outputs": [],
   "source": [
    "class pessoa():\n",
    "    def __init_(self):\n",
    "        self.title = 'Calculadora'\n",
    "        self.isbn = 10101\n",
    "        print(\"Construtor chamado para criar a classe\")\n",
    "    def somar(self, a,b):\n",
    "        c = a + b\n",
    "        print(c)"
   ]
  },
  {
   "cell_type": "code",
   "execution_count": 17,
   "metadata": {
    "collapsed": true
   },
   "outputs": [],
   "source": [
    "calculo = pessoa()"
   ]
  },
  {
   "cell_type": "code",
   "execution_count": 18,
   "metadata": {
    "collapsed": false
   },
   "outputs": [
    {
     "data": {
      "text/plain": [
       "__main__.pessoa"
      ]
     },
     "execution_count": 18,
     "metadata": {},
     "output_type": "execute_result"
    }
   ],
   "source": [
    "type(calculo)"
   ]
  },
  {
   "cell_type": "code",
   "execution_count": 19,
   "metadata": {
    "collapsed": false
   },
   "outputs": [
    {
     "name": "stdout",
     "output_type": "stream",
     "text": [
      "15\n"
     ]
    }
   ],
   "source": [
    "calculo.somar(10,5)"
   ]
  },
  {
   "cell_type": "code",
   "execution_count": null,
   "metadata": {
    "collapsed": true
   },
   "outputs": [],
   "source": []
  }
 ],
 "metadata": {
  "anaconda-cloud": {},
  "kernelspec": {
   "display_name": "Python [default]",
   "language": "python",
   "name": "python3"
  },
  "language_info": {
   "codemirror_mode": {
    "name": "ipython",
    "version": 3
   },
   "file_extension": ".py",
   "mimetype": "text/x-python",
   "name": "python",
   "nbconvert_exporter": "python",
   "pygments_lexer": "ipython3",
   "version": "3.5.2"
  }
 },
 "nbformat": 4,
 "nbformat_minor": 1
}
