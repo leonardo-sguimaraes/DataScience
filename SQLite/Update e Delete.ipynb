{
 "cells": [
  {
   "cell_type": "code",
   "execution_count": 2,
   "metadata": {
    "collapsed": true
   },
   "outputs": [],
   "source": [
    "import datetime\n",
    "import sqlite3\n",
    "import time\n",
    "import random\n",
    "\n",
    "connected =  sqlite3.Connection('dbgtp.db')\n",
    "cr = connected.cursor()\n",
    "\n",
    "def create_table_new():\n",
    "    cr.execute('CREATE TABLE IF NOT EXISTS product (id INTEGER PRIMARY KEY AUTOINCREMENT NOT NULL, date TEXT, '\\\n",
    "    'prod_name TEXT, valor REAL)')\n",
    "   \n",
    "def data_insert():\n",
    "    cr.execute(\"INSERT INTO product VALUES (10,'2016-05--02 14:32:11', 'Teclado', 90)\")\n",
    "    connected.commit()\n",
    "    cr.close()\n",
    "    connected.close()\n",
    "\n",
    "def data_insert_var():\n",
    "    new_date = datetime.datetime.now()\n",
    "    new_prod_name = 'Monitor'\n",
    "    new_valor = random.randrange(50,100)\n",
    "    cr.execute(\"INSERT INTO product (date, prod_name, valor) VALUES (?, ?, ?)\",( new_date, new_prod_name, new_valor))\n",
    "    connected.commit()\n",
    "    \n",
    "create_table_new()\n",
    "data_insert_var()\n",
    "\n",
    "for i in range(10):\n",
    "    data_insert_var()\n",
    "    time.sleep(1)\n",
    "\n",
    "def leitura_todos_dados():\n",
    "    cr.execute(\"SELECT * FROM PRODUCT\")\n",
    "    for linha in cr.fetchall():\n",
    "        print(linha)\n",
    "\n",
    "def leitura_registros():\n",
    "    cr.execute(\"SELECT * FROM product WHERE valor > 60.0\")\n",
    "    for linha in cr.fetchall():\n",
    "        print(linha)\n",
    "\n",
    "def leira_colunas():\n",
    "    cr.execute(\"SELECT * FROM  product\")\n",
    "    for linha in cr.fetchall():\n",
    "        print(linha[3])"
   ]
  },
  {
   "cell_type": "code",
   "execution_count": 8,
   "metadata": {
    "collapsed": true
   },
   "outputs": [],
   "source": [
    "def atualiz_dados():\n",
    "    cr.execute(\"UPDATE product SET valor = 70.0 WHERE valor = 88.0\")\n",
    "    connected.commit()"
   ]
  },
  {
   "cell_type": "code",
   "execution_count": 9,
   "metadata": {
    "collapsed": true
   },
   "outputs": [],
   "source": [
    "def remove_dados():\n",
    "    cr.execute(\"DELETE FROM product WHERE valor = 61.0 \")\n",
    "    connected.commit()"
   ]
  },
  {
   "cell_type": "code",
   "execution_count": 10,
   "metadata": {
    "collapsed": false
   },
   "outputs": [
    {
     "name": "stdout",
     "output_type": "stream",
     "text": [
      "(1, '2017-01-20 10:22:39.787302', 'Monitor', 61.0)\n",
      "(2, '2017-01-20 10:23:04.501818', 'Monitor', 88.0)\n",
      "(3, '2017-01-20 10:23:05.708665', 'Monitor', 60.0)\n",
      "(4, '2017-01-20 10:23:06.841380', 'Monitor', 77.0)\n",
      "(5, '2017-01-20 10:23:08.011750', 'Monitor', 97.0)\n",
      "(6, '2017-01-20 10:23:09.138224', 'Monitor', 56.0)\n",
      "(7, '2017-01-20 10:23:10.337375', 'Monitor', 73.0)\n",
      "(8, '2017-01-20 10:23:11.542570', 'Monitor', 86.0)\n",
      "(9, '2017-01-20 10:23:12.728856', 'Monitor', 50.0)\n",
      "(10, '2017-01-20 10:23:13.868521', 'Monitor', 86.0)\n",
      "(11, '2017-01-20 10:23:15.046730', 'Monitor', 55.0)\n",
      "(12, '2017-01-20 10:37:59.671149', 'Monitor', 89.0)\n",
      "(13, '2017-01-20 10:37:59.922526', 'Monitor', 58.0)\n",
      "(14, '2017-01-20 10:38:01.042444', 'Monitor', 59.0)\n",
      "(15, '2017-01-20 10:38:02.215701', 'Monitor', 51.0)\n",
      "(16, '2017-01-20 10:38:03.418648', 'Monitor', 79.0)\n",
      "(17, '2017-01-20 10:38:04.556144', 'Monitor', 95.0)\n",
      "(18, '2017-01-20 10:38:05.713409', 'Monitor', 72.0)\n",
      "(19, '2017-01-20 10:38:06.808600', 'Monitor', 93.0)\n",
      "(20, '2017-01-20 10:38:07.908015', 'Monitor', 63.0)\n",
      "(21, '2017-01-20 10:38:09.002655', 'Monitor', 54.0)\n",
      "(22, '2017-01-20 10:38:10.183856', 'Monitor', 97.0)\n",
      "(23, '2017-01-20 10:47:13.107980', 'Monitor', 96.0)\n",
      "(24, '2017-01-20 10:47:13.387537', 'Monitor', 93.0)\n",
      "(25, '2017-01-20 10:47:14.519020', 'Monitor', 76.0)\n",
      "(26, '2017-01-20 10:47:15.678816', 'Monitor', 99.0)\n",
      "(27, '2017-01-20 10:47:16.803851', 'Monitor', 69.0)\n",
      "(28, '2017-01-20 10:47:17.962666', 'Monitor', 75.0)\n",
      "(29, '2017-01-20 10:47:19.091428', 'Monitor', 59.0)\n",
      "(30, '2017-01-20 10:47:20.191454', 'Monitor', 84.0)\n",
      "(31, '2017-01-20 10:47:21.335480', 'Monitor', 60.0)\n",
      "(32, '2017-01-20 10:47:22.423815', 'Monitor', 96.0)\n",
      "(33, '2017-01-20 10:47:23.531599', 'Monitor', 66.0)\n"
     ]
    }
   ],
   "source": [
    "leitura_todos_dados()"
   ]
  },
  {
   "cell_type": "code",
   "execution_count": 11,
   "metadata": {
    "collapsed": true
   },
   "outputs": [],
   "source": [
    "atualiz_dados()"
   ]
  },
  {
   "cell_type": "code",
   "execution_count": 12,
   "metadata": {
    "collapsed": false
   },
   "outputs": [
    {
     "name": "stdout",
     "output_type": "stream",
     "text": [
      "(1, '2017-01-20 10:22:39.787302', 'Monitor', 61.0)\n",
      "(2, '2017-01-20 10:23:04.501818', 'Monitor', 70.0)\n",
      "(3, '2017-01-20 10:23:05.708665', 'Monitor', 60.0)\n",
      "(4, '2017-01-20 10:23:06.841380', 'Monitor', 77.0)\n",
      "(5, '2017-01-20 10:23:08.011750', 'Monitor', 97.0)\n",
      "(6, '2017-01-20 10:23:09.138224', 'Monitor', 56.0)\n",
      "(7, '2017-01-20 10:23:10.337375', 'Monitor', 73.0)\n",
      "(8, '2017-01-20 10:23:11.542570', 'Monitor', 86.0)\n",
      "(9, '2017-01-20 10:23:12.728856', 'Monitor', 50.0)\n",
      "(10, '2017-01-20 10:23:13.868521', 'Monitor', 86.0)\n",
      "(11, '2017-01-20 10:23:15.046730', 'Monitor', 55.0)\n",
      "(12, '2017-01-20 10:37:59.671149', 'Monitor', 89.0)\n",
      "(13, '2017-01-20 10:37:59.922526', 'Monitor', 58.0)\n",
      "(14, '2017-01-20 10:38:01.042444', 'Monitor', 59.0)\n",
      "(15, '2017-01-20 10:38:02.215701', 'Monitor', 51.0)\n",
      "(16, '2017-01-20 10:38:03.418648', 'Monitor', 79.0)\n",
      "(17, '2017-01-20 10:38:04.556144', 'Monitor', 95.0)\n",
      "(18, '2017-01-20 10:38:05.713409', 'Monitor', 72.0)\n",
      "(19, '2017-01-20 10:38:06.808600', 'Monitor', 93.0)\n",
      "(20, '2017-01-20 10:38:07.908015', 'Monitor', 63.0)\n",
      "(21, '2017-01-20 10:38:09.002655', 'Monitor', 54.0)\n",
      "(22, '2017-01-20 10:38:10.183856', 'Monitor', 97.0)\n",
      "(23, '2017-01-20 10:47:13.107980', 'Monitor', 96.0)\n",
      "(24, '2017-01-20 10:47:13.387537', 'Monitor', 93.0)\n",
      "(25, '2017-01-20 10:47:14.519020', 'Monitor', 76.0)\n",
      "(26, '2017-01-20 10:47:15.678816', 'Monitor', 99.0)\n",
      "(27, '2017-01-20 10:47:16.803851', 'Monitor', 69.0)\n",
      "(28, '2017-01-20 10:47:17.962666', 'Monitor', 75.0)\n",
      "(29, '2017-01-20 10:47:19.091428', 'Monitor', 59.0)\n",
      "(30, '2017-01-20 10:47:20.191454', 'Monitor', 84.0)\n",
      "(31, '2017-01-20 10:47:21.335480', 'Monitor', 60.0)\n",
      "(32, '2017-01-20 10:47:22.423815', 'Monitor', 96.0)\n",
      "(33, '2017-01-20 10:47:23.531599', 'Monitor', 66.0)\n"
     ]
    }
   ],
   "source": [
    "leitura_todos_dados()"
   ]
  },
  {
   "cell_type": "code",
   "execution_count": 13,
   "metadata": {
    "collapsed": true
   },
   "outputs": [],
   "source": [
    "remove_dados()"
   ]
  },
  {
   "cell_type": "code",
   "execution_count": 14,
   "metadata": {
    "collapsed": false
   },
   "outputs": [
    {
     "name": "stdout",
     "output_type": "stream",
     "text": [
      "(2, '2017-01-20 10:23:04.501818', 'Monitor', 70.0)\n",
      "(3, '2017-01-20 10:23:05.708665', 'Monitor', 60.0)\n",
      "(4, '2017-01-20 10:23:06.841380', 'Monitor', 77.0)\n",
      "(5, '2017-01-20 10:23:08.011750', 'Monitor', 97.0)\n",
      "(6, '2017-01-20 10:23:09.138224', 'Monitor', 56.0)\n",
      "(7, '2017-01-20 10:23:10.337375', 'Monitor', 73.0)\n",
      "(8, '2017-01-20 10:23:11.542570', 'Monitor', 86.0)\n",
      "(9, '2017-01-20 10:23:12.728856', 'Monitor', 50.0)\n",
      "(10, '2017-01-20 10:23:13.868521', 'Monitor', 86.0)\n",
      "(11, '2017-01-20 10:23:15.046730', 'Monitor', 55.0)\n",
      "(12, '2017-01-20 10:37:59.671149', 'Monitor', 89.0)\n",
      "(13, '2017-01-20 10:37:59.922526', 'Monitor', 58.0)\n",
      "(14, '2017-01-20 10:38:01.042444', 'Monitor', 59.0)\n",
      "(15, '2017-01-20 10:38:02.215701', 'Monitor', 51.0)\n",
      "(16, '2017-01-20 10:38:03.418648', 'Monitor', 79.0)\n",
      "(17, '2017-01-20 10:38:04.556144', 'Monitor', 95.0)\n",
      "(18, '2017-01-20 10:38:05.713409', 'Monitor', 72.0)\n",
      "(19, '2017-01-20 10:38:06.808600', 'Monitor', 93.0)\n",
      "(20, '2017-01-20 10:38:07.908015', 'Monitor', 63.0)\n",
      "(21, '2017-01-20 10:38:09.002655', 'Monitor', 54.0)\n",
      "(22, '2017-01-20 10:38:10.183856', 'Monitor', 97.0)\n",
      "(23, '2017-01-20 10:47:13.107980', 'Monitor', 96.0)\n",
      "(24, '2017-01-20 10:47:13.387537', 'Monitor', 93.0)\n",
      "(25, '2017-01-20 10:47:14.519020', 'Monitor', 76.0)\n",
      "(26, '2017-01-20 10:47:15.678816', 'Monitor', 99.0)\n",
      "(27, '2017-01-20 10:47:16.803851', 'Monitor', 69.0)\n",
      "(28, '2017-01-20 10:47:17.962666', 'Monitor', 75.0)\n",
      "(29, '2017-01-20 10:47:19.091428', 'Monitor', 59.0)\n",
      "(30, '2017-01-20 10:47:20.191454', 'Monitor', 84.0)\n",
      "(31, '2017-01-20 10:47:21.335480', 'Monitor', 60.0)\n",
      "(32, '2017-01-20 10:47:22.423815', 'Monitor', 96.0)\n",
      "(33, '2017-01-20 10:47:23.531599', 'Monitor', 66.0)\n"
     ]
    }
   ],
   "source": [
    "leitura_todos_dados()"
   ]
  },
  {
   "cell_type": "code",
   "execution_count": null,
   "metadata": {
    "collapsed": true
   },
   "outputs": [],
   "source": []
  }
 ],
 "metadata": {
  "kernelspec": {
   "display_name": "Python [conda root]",
   "language": "python",
   "name": "conda-root-py"
  },
  "language_info": {
   "codemirror_mode": {
    "name": "ipython",
    "version": 3
   },
   "file_extension": ".py",
   "mimetype": "text/x-python",
   "name": "python",
   "nbconvert_exporter": "python",
   "pygments_lexer": "ipython3",
   "version": "3.5.2"
  }
 },
 "nbformat": 4,
 "nbformat_minor": 1
}
