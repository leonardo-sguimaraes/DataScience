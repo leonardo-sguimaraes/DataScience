{
 "cells": [
  {
   "cell_type": "markdown",
   "metadata": {},
   "source": [
    "## Expressões Regulares"
   ]
  },
  {
   "cell_type": "code",
   "execution_count": 1,
   "metadata": {
    "collapsed": true
   },
   "outputs": [],
   "source": [
    "# Importando o módulo re (regular expression)\n",
    "# Esse módulo fornece operações com expressões regulares (ER)\n",
    "\n",
    "import re"
   ]
  },
  {
   "cell_type": "code",
   "execution_count": 2,
   "metadata": {
    "collapsed": true
   },
   "outputs": [],
   "source": [
    "lista_pesquisa = ['informações', 'Negócios']"
   ]
  },
  {
   "cell_type": "code",
   "execution_count": 6,
   "metadata": {
    "collapsed": false
   },
   "outputs": [],
   "source": [
    "texto = 'Podemos acreditar que tudo que a vida nos oferecerá no futuro é repetir o que fizemos ontem e hoje. Mas, se prestarmos atenção, vamos nos dar conta de que nenhum dia é igual a outro. Cada manhã traz uma benção escondida; uma benção que só serve para esse dia e que não se pode guardar nem desaproveitar'\\\n",
    " 'Se não usamos este milagre hoje, ele vai se perder.'\\\n",
    " 'Este milagre está nos detalhes do cotidiano; é preciso viver cada minuto porque ali encontramos a saída de nossas confusões, a alegria de nossos bons momentos, a pista correta para a decisão que tomaremos.'\\\n",
    "'Nunca podemos deixar que cada dia pareça igual ao anterior porque todos os dias são diferentes, porque estamos em constante processo de mudança.'"
   ]
  },
  {
   "cell_type": "code",
   "execution_count": 7,
   "metadata": {
    "collapsed": false
   },
   "outputs": [
    {
     "data": {
      "text/plain": [
       "'Podemos acreditar que tudo que a vida nos oferecerá no futuro é repetir o que fizemos ontem e hoje. Mas, se prestarmos atenção, vamos nos dar conta de que nenhum dia é igual a outro. Cada manhã traz uma benção escondida; uma benção que só serve para esse dia e que não se pode guardar nem desaproveitarSe não usamos este milagre hoje, ele vai se perder.Este milagre está nos detalhes do cotidiano; é preciso viver cada minuto porque ali encontramos a saída de nossas confusões, a alegria de nossos bons momentos, a pista correta para a decisão que tomaremos.Nunca podemos deixar que cada dia pareça igual ao anterior porque todos os dias são diferentes, porque estamos em constante processo de mudança.'"
      ]
     },
     "execution_count": 7,
     "metadata": {},
     "output_type": "execute_result"
    }
   ],
   "source": [
    "texto"
   ]
  },
  {
   "cell_type": "code",
   "execution_count": 8,
   "metadata": {
    "collapsed": false
   },
   "outputs": [
    {
     "name": "stdout",
     "output_type": "stream",
     "text": [
      "Buncando por \"informações\" em: \n",
      "\n",
      "\"Podemos acreditar que tudo que a vida nos oferecerá no futuro é repetir o que fizemos ontem e hoje. Mas, se prestarmos atenção, vamos nos dar conta de que nenhum dia é igual a outro. Cada manhã traz uma benção escondida; uma benção que só serve para esse dia e que não se pode guardar nem desaproveitarSe não usamos este milagre hoje, ele vai se perder.Este milagre está nos detalhes do cotidiano; é preciso viver cada minuto porque ali encontramos a saída de nossas confusões, a alegria de nossos bons momentos, a pista correta para a decisão que tomaremos.Nunca podemos deixar que cada dia pareça igual ao anterior porque todos os dias são diferentes, porque estamos em constante processo de mudança.\"\n",
      "\n",
      "\n",
      "Palavra Não Encontrada\n",
      "\n",
      "\n",
      "Buncando por \"Negócios\" em: \n",
      "\n",
      "\"Podemos acreditar que tudo que a vida nos oferecerá no futuro é repetir o que fizemos ontem e hoje. Mas, se prestarmos atenção, vamos nos dar conta de que nenhum dia é igual a outro. Cada manhã traz uma benção escondida; uma benção que só serve para esse dia e que não se pode guardar nem desaproveitarSe não usamos este milagre hoje, ele vai se perder.Este milagre está nos detalhes do cotidiano; é preciso viver cada minuto porque ali encontramos a saída de nossas confusões, a alegria de nossos bons momentos, a pista correta para a decisão que tomaremos.Nunca podemos deixar que cada dia pareça igual ao anterior porque todos os dias são diferentes, porque estamos em constante processo de mudança.\"\n",
      "\n",
      "\n",
      "Palavra Não Encontrada\n",
      "\n",
      "\n"
     ]
    }
   ],
   "source": [
    "for item in lista_pesquisa:\n",
    "    print('Buncando por \"%s\" em: \\n\\n\"%s\"' % (item, texto))\n",
    "    \n",
    "    # verificando se o termo de pesquisa existe no testo\n",
    "    \n",
    "    if re.search(item, texto):\n",
    "        print('\\n')\n",
    "        print('Palavra Encontrada')\n",
    "        print('\\n')\n",
    "    else:\n",
    "        print('\\n')\n",
    "        print('Palavra Não Encontrada')\n",
    "        print('\\n')"
   ]
  },
  {
   "cell_type": "code",
   "execution_count": 9,
   "metadata": {
    "collapsed": true
   },
   "outputs": [],
   "source": [
    "split_term = '@'"
   ]
  },
  {
   "cell_type": "code",
   "execution_count": 10,
   "metadata": {
    "collapsed": true
   },
   "outputs": [],
   "source": [
    "frase = 'Qual o dominio de alguem com o e-mail : aluno@gmail.com'"
   ]
  },
  {
   "cell_type": "code",
   "execution_count": 11,
   "metadata": {
    "collapsed": false
   },
   "outputs": [
    {
     "data": {
      "text/plain": [
       "['Qual o dominio de alguem com o e-mail : aluno', 'gmail.com']"
      ]
     },
     "execution_count": 11,
     "metadata": {},
     "output_type": "execute_result"
    }
   ],
   "source": [
    "# dividindo a frase conforme um caracter especial \n",
    "re.split(split_term, frase)"
   ]
  },
  {
   "cell_type": "code",
   "execution_count": 15,
   "metadata": {
    "collapsed": false
   },
   "outputs": [],
   "source": [
    "def  encontra_padrao (lista, frase):\n",
    "    for item in lista:\n",
    "        print('Pesquisando na frase: %r'%item)\n",
    "        print(re.findall(item, frase))\n",
    "        print('\\n')"
   ]
  },
  {
   "cell_type": "code",
   "execution_count": 18,
   "metadata": {
    "collapsed": false
   },
   "outputs": [],
   "source": [
    "frase_padrao = 'zLzL..zzzLLL...zLLLzLLL...LzLz...dzzzz...zLLLL'\n",
    "lista_padroes = ['zL*', 'zL+', 'zL?','zL{3}','zL{2,3}']\n",
    "\n"
   ]
  },
  {
   "cell_type": "code",
   "execution_count": 19,
   "metadata": {
    "collapsed": false
   },
   "outputs": [
    {
     "name": "stdout",
     "output_type": "stream",
     "text": [
      "Pesquisando na frase: 'zL*'\n",
      "['zL', 'zL', 'z', 'z', 'zLLL', 'zLLL', 'zLLL', 'zL', 'z', 'z', 'z', 'z', 'z', 'zLLLL']\n",
      "\n",
      "\n",
      "Pesquisando na frase: 'zL+'\n",
      "['zL', 'zL', 'zLLL', 'zLLL', 'zLLL', 'zL', 'zLLLL']\n",
      "\n",
      "\n",
      "Pesquisando na frase: 'zL?'\n",
      "['zL', 'zL', 'z', 'z', 'zL', 'zL', 'zL', 'zL', 'z', 'z', 'z', 'z', 'z', 'zL']\n",
      "\n",
      "\n",
      "Pesquisando na frase: 'zL{3}'\n",
      "['zLLL', 'zLLL', 'zLLL', 'zLLL']\n",
      "\n",
      "\n",
      "Pesquisando na frase: 'zL{2,3}'\n",
      "['zLLL', 'zLLL', 'zLLL', 'zLLL']\n",
      "\n",
      "\n"
     ]
    }
   ],
   "source": [
    "encontra_padrao(lista_padroes, frase_padrao)"
   ]
  },
  {
   "cell_type": "code",
   "execution_count": 20,
   "metadata": {
    "collapsed": true
   },
   "outputs": [],
   "source": [
    "frase = 'Está é uma string com pontuação. Isso pode ser um problema quando fazemos mineração de dados'\\\n",
    "'Não seria melhor retirar os sinais ao fmm da frase?'"
   ]
  },
  {
   "cell_type": "code",
   "execution_count": 21,
   "metadata": {
    "collapsed": false
   },
   "outputs": [
    {
     "data": {
      "text/plain": [
       "['Está é uma string com pontuação',\n",
       " ' Isso pode ser um problema quando fazemos mineração de dadosNão seria melhor retirar os sinais ao fmm da frase']"
      ]
     },
     "execution_count": 21,
     "metadata": {},
     "output_type": "execute_result"
    }
   ],
   "source": [
    "#A expressão [^!.?] verifica por valores que não sejam pontuação\n",
    "# (!,.,?) e o sinal de adção (+) verifica se o item aparece pelo menos\n",
    "# uma vez. Traduzindo: esta expressão diz: traga apenas as palavras na \n",
    "# frase.\n",
    "\n",
    "re.findall('[^!.?]+', frase)"
   ]
  },
  {
   "cell_type": "code",
   "execution_count": 22,
   "metadata": {
    "collapsed": true
   },
   "outputs": [],
   "source": [
    "frase = 'Está é uma frase de exemplo. Vamos verificar quais padrões serão encontrados'\n",
    "\n",
    "lista_padroes = ['[a-z]+',\n",
    "                 '[A-Z]+',\n",
    "                 '[a-zA-Z]+',\n",
    "                 '[A-Z][a-z]+']"
   ]
  },
  {
   "cell_type": "code",
   "execution_count": 23,
   "metadata": {
    "collapsed": false
   },
   "outputs": [
    {
     "name": "stdout",
     "output_type": "stream",
     "text": [
      "Pesquisando na frase: '[a-z]+'\n",
      "['st', 'uma', 'frase', 'de', 'exemplo', 'amos', 'verificar', 'quais', 'padr', 'es', 'ser', 'o', 'encontrados']\n",
      "\n",
      "\n",
      "Pesquisando na frase: '[A-Z]+'\n",
      "['E', 'V']\n",
      "\n",
      "\n",
      "Pesquisando na frase: '[a-zA-Z]+'\n",
      "['Est', 'uma', 'frase', 'de', 'exemplo', 'Vamos', 'verificar', 'quais', 'padr', 'es', 'ser', 'o', 'encontrados']\n",
      "\n",
      "\n",
      "Pesquisando na frase: '[A-Z][a-z]+'\n",
      "['Est', 'Vamos']\n",
      "\n",
      "\n"
     ]
    }
   ],
   "source": [
    "encontra_padrao(lista_padroes, frase)"
   ]
  },
  {
   "cell_type": "code",
   "execution_count": 24,
   "metadata": {
    "collapsed": true
   },
   "outputs": [],
   "source": [
    "## Código especifico\n",
    "\n",
    "codigos = {'um digito': '\\d', 'um não-digito': '\\D',\n",
    "          'espaços(tab, espaço, nova linha, etc)':'\\s',\n",
    "          'não-espaço':'\\S', 'alfanumerico':'\\w', 'não alfanumerico': '\\W'}"
   ]
  },
  {
   "cell_type": "code",
   "execution_count": 25,
   "metadata": {
    "collapsed": false
   },
   "outputs": [
    {
     "data": {
      "text/plain": [
       "{'alfanumerico': '\\\\w',\n",
       " 'espaços(tab, espaço, nova linha, etc)': '\\\\s',\n",
       " 'não alfanumerico': '\\\\W',\n",
       " 'não-espaço': '\\\\S',\n",
       " 'um digito': '\\\\d',\n",
       " 'um não-digito': '\\\\D'}"
      ]
     },
     "execution_count": 25,
     "metadata": {},
     "output_type": "execute_result"
    }
   ],
   "source": [
    "codigos"
   ]
  },
  {
   "cell_type": "code",
   "execution_count": 26,
   "metadata": {
    "collapsed": false
   },
   "outputs": [
    {
     "data": {
      "text/plain": [
       "'\\\\w'"
      ]
     },
     "execution_count": 26,
     "metadata": {},
     "output_type": "execute_result"
    }
   ],
   "source": [
    "codigos['alfanumerico']"
   ]
  },
  {
   "cell_type": "code",
   "execution_count": 28,
   "metadata": {
    "collapsed": false
   },
   "outputs": [
    {
     "data": {
      "text/plain": [
       "'r\\x08'"
      ]
     },
     "execution_count": 28,
     "metadata": {},
     "output_type": "execute_result"
    }
   ],
   "source": [
    "'r\\b'"
   ]
  },
  {
   "cell_type": "code",
   "execution_count": 29,
   "metadata": {
    "collapsed": false
   },
   "outputs": [
    {
     "data": {
      "text/plain": [
       "'b'"
      ]
     },
     "execution_count": 29,
     "metadata": {},
     "output_type": "execute_result"
    }
   ],
   "source": [
    "'b'"
   ]
  },
  {
   "cell_type": "code",
   "execution_count": 30,
   "metadata": {
    "collapsed": false
   },
   "outputs": [
    {
     "data": {
      "text/plain": [
       "'\\x08'"
      ]
     },
     "execution_count": 30,
     "metadata": {},
     "output_type": "execute_result"
    }
   ],
   "source": [
    "'\\b'"
   ]
  },
  {
   "cell_type": "code",
   "execution_count": 32,
   "metadata": {
    "collapsed": true
   },
   "outputs": [],
   "source": [
    "frase = 'Está é uma string com alguns números, como 1287 e um símbolo #hashtag'\n",
    "\n",
    "lista_padroes = [\n",
    "    'r\\d+',\n",
    "    'r\\D+',\n",
    "    'r\\s+',\n",
    "    'r\\S+',\n",
    "    'r\\w+',\n",
    "    'r\\W+'\n",
    "]"
   ]
  },
  {
   "cell_type": "code",
   "execution_count": 33,
   "metadata": {
    "collapsed": false
   },
   "outputs": [
    {
     "name": "stdout",
     "output_type": "stream",
     "text": [
      "Pesquisando na frase: 'r\\\\d+'\n",
      "[]\n",
      "\n",
      "\n",
      "Pesquisando na frase: 'r\\\\D+'\n",
      "['ring com alguns números, como ']\n",
      "\n",
      "\n",
      "Pesquisando na frase: 'r\\\\s+'\n",
      "[]\n",
      "\n",
      "\n",
      "Pesquisando na frase: 'r\\\\S+'\n",
      "['ring', 'ros,']\n",
      "\n",
      "\n",
      "Pesquisando na frase: 'r\\\\w+'\n",
      "['ring', 'ros']\n",
      "\n",
      "\n",
      "Pesquisando na frase: 'r\\\\W+'\n",
      "[]\n",
      "\n",
      "\n"
     ]
    }
   ],
   "source": [
    "encontra_padrao(lista_padroes, frase)"
   ]
  },
  {
   "cell_type": "code",
   "execution_count": null,
   "metadata": {
    "collapsed": true
   },
   "outputs": [],
   "source": []
  }
 ],
 "metadata": {
  "anaconda-cloud": {},
  "kernelspec": {
   "display_name": "Python [conda root]",
   "language": "python",
   "name": "conda-root-py"
  },
  "language_info": {
   "codemirror_mode": {
    "name": "ipython",
    "version": 3
   },
   "file_extension": ".py",
   "mimetype": "text/x-python",
   "name": "python",
   "nbconvert_exporter": "python",
   "pygments_lexer": "ipython3",
   "version": "3.5.2"
  }
 },
 "nbformat": 4,
 "nbformat_minor": 1
}
